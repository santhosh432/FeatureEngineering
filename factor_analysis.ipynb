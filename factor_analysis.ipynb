{
  "nbformat": 4,
  "nbformat_minor": 0,
  "metadata": {
    "colab": {
      "name": "factor_analysis.ipynb",
      "provenance": []
    },
    "kernelspec": {
      "name": "python3",
      "display_name": "Python 3"
    },
    "language_info": {
      "name": "python"
    }
  },
  "cells": [
    {
      "cell_type": "code",
      "metadata": {
        "id": "XlfQkFLXyJBr"
      },
      "source": [
        "import pandas as pd\n",
        "from factor_analyzer import FactorAnalyzer\n",
        "import matplotlib.pyplot as plt"
      ],
      "execution_count": 30,
      "outputs": []
    },
    {
      "cell_type": "code",
      "metadata": {
        "id": "24IWShKsyqeM"
      },
      "source": [
        "# ! pip install factor-analyzer # if any error "
      ],
      "execution_count": 5,
      "outputs": []
    },
    {
      "cell_type": "code",
      "metadata": {
        "id": "FPPczQUBy0Nw"
      },
      "source": [
        "df = pd.read_csv('https://raw.githubusercontent.com/santhosh432/FeatureEngineering/master/bfi.csv')"
      ],
      "execution_count": 6,
      "outputs": []
    },
    {
      "cell_type": "code",
      "metadata": {
        "colab": {
          "base_uri": "https://localhost:8080/",
          "height": 244
        },
        "id": "DAp4VbkKyqgt",
        "outputId": "db986d2d-2bd6-4c12-b678-a93bc6e844e6"
      },
      "source": [
        "df.head()"
      ],
      "execution_count": 7,
      "outputs": [
        {
          "output_type": "execute_result",
          "data": {
            "text/html": [
              "<div>\n",
              "<style scoped>\n",
              "    .dataframe tbody tr th:only-of-type {\n",
              "        vertical-align: middle;\n",
              "    }\n",
              "\n",
              "    .dataframe tbody tr th {\n",
              "        vertical-align: top;\n",
              "    }\n",
              "\n",
              "    .dataframe thead th {\n",
              "        text-align: right;\n",
              "    }\n",
              "</style>\n",
              "<table border=\"1\" class=\"dataframe\">\n",
              "  <thead>\n",
              "    <tr style=\"text-align: right;\">\n",
              "      <th></th>\n",
              "      <th>Unnamed: 0</th>\n",
              "      <th>A1</th>\n",
              "      <th>A2</th>\n",
              "      <th>A3</th>\n",
              "      <th>A4</th>\n",
              "      <th>A5</th>\n",
              "      <th>C1</th>\n",
              "      <th>C2</th>\n",
              "      <th>C3</th>\n",
              "      <th>C4</th>\n",
              "      <th>C5</th>\n",
              "      <th>E1</th>\n",
              "      <th>E2</th>\n",
              "      <th>E3</th>\n",
              "      <th>E4</th>\n",
              "      <th>E5</th>\n",
              "      <th>N1</th>\n",
              "      <th>N2</th>\n",
              "      <th>N3</th>\n",
              "      <th>N4</th>\n",
              "      <th>N5</th>\n",
              "      <th>O1</th>\n",
              "      <th>O2</th>\n",
              "      <th>O3</th>\n",
              "      <th>O4</th>\n",
              "      <th>O5</th>\n",
              "      <th>gender</th>\n",
              "      <th>education</th>\n",
              "      <th>age</th>\n",
              "    </tr>\n",
              "  </thead>\n",
              "  <tbody>\n",
              "    <tr>\n",
              "      <th>0</th>\n",
              "      <td>61617</td>\n",
              "      <td>2.0</td>\n",
              "      <td>4.0</td>\n",
              "      <td>3.0</td>\n",
              "      <td>4.0</td>\n",
              "      <td>4.0</td>\n",
              "      <td>2.0</td>\n",
              "      <td>3.0</td>\n",
              "      <td>3.0</td>\n",
              "      <td>4.0</td>\n",
              "      <td>4.0</td>\n",
              "      <td>3.0</td>\n",
              "      <td>3.0</td>\n",
              "      <td>3.0</td>\n",
              "      <td>4.0</td>\n",
              "      <td>4.0</td>\n",
              "      <td>3.0</td>\n",
              "      <td>4.0</td>\n",
              "      <td>2.0</td>\n",
              "      <td>2.0</td>\n",
              "      <td>3.0</td>\n",
              "      <td>3.0</td>\n",
              "      <td>6</td>\n",
              "      <td>3.0</td>\n",
              "      <td>4.0</td>\n",
              "      <td>3.0</td>\n",
              "      <td>1</td>\n",
              "      <td>NaN</td>\n",
              "      <td>16</td>\n",
              "    </tr>\n",
              "    <tr>\n",
              "      <th>1</th>\n",
              "      <td>61618</td>\n",
              "      <td>2.0</td>\n",
              "      <td>4.0</td>\n",
              "      <td>5.0</td>\n",
              "      <td>2.0</td>\n",
              "      <td>5.0</td>\n",
              "      <td>5.0</td>\n",
              "      <td>4.0</td>\n",
              "      <td>4.0</td>\n",
              "      <td>3.0</td>\n",
              "      <td>4.0</td>\n",
              "      <td>1.0</td>\n",
              "      <td>1.0</td>\n",
              "      <td>6.0</td>\n",
              "      <td>4.0</td>\n",
              "      <td>3.0</td>\n",
              "      <td>3.0</td>\n",
              "      <td>3.0</td>\n",
              "      <td>3.0</td>\n",
              "      <td>5.0</td>\n",
              "      <td>5.0</td>\n",
              "      <td>4.0</td>\n",
              "      <td>2</td>\n",
              "      <td>4.0</td>\n",
              "      <td>3.0</td>\n",
              "      <td>3.0</td>\n",
              "      <td>2</td>\n",
              "      <td>NaN</td>\n",
              "      <td>18</td>\n",
              "    </tr>\n",
              "    <tr>\n",
              "      <th>2</th>\n",
              "      <td>61620</td>\n",
              "      <td>5.0</td>\n",
              "      <td>4.0</td>\n",
              "      <td>5.0</td>\n",
              "      <td>4.0</td>\n",
              "      <td>4.0</td>\n",
              "      <td>4.0</td>\n",
              "      <td>5.0</td>\n",
              "      <td>4.0</td>\n",
              "      <td>2.0</td>\n",
              "      <td>5.0</td>\n",
              "      <td>2.0</td>\n",
              "      <td>4.0</td>\n",
              "      <td>4.0</td>\n",
              "      <td>4.0</td>\n",
              "      <td>5.0</td>\n",
              "      <td>4.0</td>\n",
              "      <td>5.0</td>\n",
              "      <td>4.0</td>\n",
              "      <td>2.0</td>\n",
              "      <td>3.0</td>\n",
              "      <td>4.0</td>\n",
              "      <td>2</td>\n",
              "      <td>5.0</td>\n",
              "      <td>5.0</td>\n",
              "      <td>2.0</td>\n",
              "      <td>2</td>\n",
              "      <td>NaN</td>\n",
              "      <td>17</td>\n",
              "    </tr>\n",
              "    <tr>\n",
              "      <th>3</th>\n",
              "      <td>61621</td>\n",
              "      <td>4.0</td>\n",
              "      <td>4.0</td>\n",
              "      <td>6.0</td>\n",
              "      <td>5.0</td>\n",
              "      <td>5.0</td>\n",
              "      <td>4.0</td>\n",
              "      <td>4.0</td>\n",
              "      <td>3.0</td>\n",
              "      <td>5.0</td>\n",
              "      <td>5.0</td>\n",
              "      <td>5.0</td>\n",
              "      <td>3.0</td>\n",
              "      <td>4.0</td>\n",
              "      <td>4.0</td>\n",
              "      <td>4.0</td>\n",
              "      <td>2.0</td>\n",
              "      <td>5.0</td>\n",
              "      <td>2.0</td>\n",
              "      <td>4.0</td>\n",
              "      <td>1.0</td>\n",
              "      <td>3.0</td>\n",
              "      <td>3</td>\n",
              "      <td>4.0</td>\n",
              "      <td>3.0</td>\n",
              "      <td>5.0</td>\n",
              "      <td>2</td>\n",
              "      <td>NaN</td>\n",
              "      <td>17</td>\n",
              "    </tr>\n",
              "    <tr>\n",
              "      <th>4</th>\n",
              "      <td>61622</td>\n",
              "      <td>2.0</td>\n",
              "      <td>3.0</td>\n",
              "      <td>3.0</td>\n",
              "      <td>4.0</td>\n",
              "      <td>5.0</td>\n",
              "      <td>4.0</td>\n",
              "      <td>4.0</td>\n",
              "      <td>5.0</td>\n",
              "      <td>3.0</td>\n",
              "      <td>2.0</td>\n",
              "      <td>2.0</td>\n",
              "      <td>2.0</td>\n",
              "      <td>5.0</td>\n",
              "      <td>4.0</td>\n",
              "      <td>5.0</td>\n",
              "      <td>2.0</td>\n",
              "      <td>3.0</td>\n",
              "      <td>4.0</td>\n",
              "      <td>4.0</td>\n",
              "      <td>3.0</td>\n",
              "      <td>3.0</td>\n",
              "      <td>3</td>\n",
              "      <td>4.0</td>\n",
              "      <td>3.0</td>\n",
              "      <td>3.0</td>\n",
              "      <td>1</td>\n",
              "      <td>NaN</td>\n",
              "      <td>17</td>\n",
              "    </tr>\n",
              "  </tbody>\n",
              "</table>\n",
              "</div>"
            ],
            "text/plain": [
              "   Unnamed: 0   A1   A2   A3   A4   A5  ...   O3   O4   O5  gender  education  age\n",
              "0       61617  2.0  4.0  3.0  4.0  4.0  ...  3.0  4.0  3.0       1        NaN   16\n",
              "1       61618  2.0  4.0  5.0  2.0  5.0  ...  4.0  3.0  3.0       2        NaN   18\n",
              "2       61620  5.0  4.0  5.0  4.0  4.0  ...  5.0  5.0  2.0       2        NaN   17\n",
              "3       61621  4.0  4.0  6.0  5.0  5.0  ...  4.0  3.0  5.0       2        NaN   17\n",
              "4       61622  2.0  3.0  3.0  4.0  5.0  ...  4.0  3.0  3.0       1        NaN   17\n",
              "\n",
              "[5 rows x 29 columns]"
            ]
          },
          "metadata": {
            "tags": []
          },
          "execution_count": 7
        }
      ]
    },
    {
      "cell_type": "code",
      "metadata": {
        "colab": {
          "base_uri": "https://localhost:8080/"
        },
        "id": "7ZMVpLggygJS",
        "outputId": "2c67a2ef-8ca8-4c5d-c35d-fadaa4a046c4"
      },
      "source": [
        "df.columns"
      ],
      "execution_count": 8,
      "outputs": [
        {
          "output_type": "execute_result",
          "data": {
            "text/plain": [
              "Index(['Unnamed: 0', 'A1', 'A2', 'A3', 'A4', 'A5', 'C1', 'C2', 'C3', 'C4',\n",
              "       'C5', 'E1', 'E2', 'E3', 'E4', 'E5', 'N1', 'N2', 'N3', 'N4', 'N5', 'O1',\n",
              "       'O2', 'O3', 'O4', 'O5', 'gender', 'education', 'age'],\n",
              "      dtype='object')"
            ]
          },
          "metadata": {
            "tags": []
          },
          "execution_count": 8
        }
      ]
    },
    {
      "cell_type": "code",
      "metadata": {
        "id": "StUnr8B_y8yD"
      },
      "source": [
        "df = df.iloc[:, 1:26]"
      ],
      "execution_count": 9,
      "outputs": []
    },
    {
      "cell_type": "code",
      "metadata": {
        "colab": {
          "base_uri": "https://localhost:8080/",
          "height": 206
        },
        "id": "EGI0K00TzByw",
        "outputId": "8af72845-a518-41e7-d984-3d78cd04d77a"
      },
      "source": [
        "df.head()"
      ],
      "execution_count": 10,
      "outputs": [
        {
          "output_type": "execute_result",
          "data": {
            "text/html": [
              "<div>\n",
              "<style scoped>\n",
              "    .dataframe tbody tr th:only-of-type {\n",
              "        vertical-align: middle;\n",
              "    }\n",
              "\n",
              "    .dataframe tbody tr th {\n",
              "        vertical-align: top;\n",
              "    }\n",
              "\n",
              "    .dataframe thead th {\n",
              "        text-align: right;\n",
              "    }\n",
              "</style>\n",
              "<table border=\"1\" class=\"dataframe\">\n",
              "  <thead>\n",
              "    <tr style=\"text-align: right;\">\n",
              "      <th></th>\n",
              "      <th>A1</th>\n",
              "      <th>A2</th>\n",
              "      <th>A3</th>\n",
              "      <th>A4</th>\n",
              "      <th>A5</th>\n",
              "      <th>C1</th>\n",
              "      <th>C2</th>\n",
              "      <th>C3</th>\n",
              "      <th>C4</th>\n",
              "      <th>C5</th>\n",
              "      <th>E1</th>\n",
              "      <th>E2</th>\n",
              "      <th>E3</th>\n",
              "      <th>E4</th>\n",
              "      <th>E5</th>\n",
              "      <th>N1</th>\n",
              "      <th>N2</th>\n",
              "      <th>N3</th>\n",
              "      <th>N4</th>\n",
              "      <th>N5</th>\n",
              "      <th>O1</th>\n",
              "      <th>O2</th>\n",
              "      <th>O3</th>\n",
              "      <th>O4</th>\n",
              "      <th>O5</th>\n",
              "    </tr>\n",
              "  </thead>\n",
              "  <tbody>\n",
              "    <tr>\n",
              "      <th>0</th>\n",
              "      <td>2.0</td>\n",
              "      <td>4.0</td>\n",
              "      <td>3.0</td>\n",
              "      <td>4.0</td>\n",
              "      <td>4.0</td>\n",
              "      <td>2.0</td>\n",
              "      <td>3.0</td>\n",
              "      <td>3.0</td>\n",
              "      <td>4.0</td>\n",
              "      <td>4.0</td>\n",
              "      <td>3.0</td>\n",
              "      <td>3.0</td>\n",
              "      <td>3.0</td>\n",
              "      <td>4.0</td>\n",
              "      <td>4.0</td>\n",
              "      <td>3.0</td>\n",
              "      <td>4.0</td>\n",
              "      <td>2.0</td>\n",
              "      <td>2.0</td>\n",
              "      <td>3.0</td>\n",
              "      <td>3.0</td>\n",
              "      <td>6</td>\n",
              "      <td>3.0</td>\n",
              "      <td>4.0</td>\n",
              "      <td>3.0</td>\n",
              "    </tr>\n",
              "    <tr>\n",
              "      <th>1</th>\n",
              "      <td>2.0</td>\n",
              "      <td>4.0</td>\n",
              "      <td>5.0</td>\n",
              "      <td>2.0</td>\n",
              "      <td>5.0</td>\n",
              "      <td>5.0</td>\n",
              "      <td>4.0</td>\n",
              "      <td>4.0</td>\n",
              "      <td>3.0</td>\n",
              "      <td>4.0</td>\n",
              "      <td>1.0</td>\n",
              "      <td>1.0</td>\n",
              "      <td>6.0</td>\n",
              "      <td>4.0</td>\n",
              "      <td>3.0</td>\n",
              "      <td>3.0</td>\n",
              "      <td>3.0</td>\n",
              "      <td>3.0</td>\n",
              "      <td>5.0</td>\n",
              "      <td>5.0</td>\n",
              "      <td>4.0</td>\n",
              "      <td>2</td>\n",
              "      <td>4.0</td>\n",
              "      <td>3.0</td>\n",
              "      <td>3.0</td>\n",
              "    </tr>\n",
              "    <tr>\n",
              "      <th>2</th>\n",
              "      <td>5.0</td>\n",
              "      <td>4.0</td>\n",
              "      <td>5.0</td>\n",
              "      <td>4.0</td>\n",
              "      <td>4.0</td>\n",
              "      <td>4.0</td>\n",
              "      <td>5.0</td>\n",
              "      <td>4.0</td>\n",
              "      <td>2.0</td>\n",
              "      <td>5.0</td>\n",
              "      <td>2.0</td>\n",
              "      <td>4.0</td>\n",
              "      <td>4.0</td>\n",
              "      <td>4.0</td>\n",
              "      <td>5.0</td>\n",
              "      <td>4.0</td>\n",
              "      <td>5.0</td>\n",
              "      <td>4.0</td>\n",
              "      <td>2.0</td>\n",
              "      <td>3.0</td>\n",
              "      <td>4.0</td>\n",
              "      <td>2</td>\n",
              "      <td>5.0</td>\n",
              "      <td>5.0</td>\n",
              "      <td>2.0</td>\n",
              "    </tr>\n",
              "    <tr>\n",
              "      <th>3</th>\n",
              "      <td>4.0</td>\n",
              "      <td>4.0</td>\n",
              "      <td>6.0</td>\n",
              "      <td>5.0</td>\n",
              "      <td>5.0</td>\n",
              "      <td>4.0</td>\n",
              "      <td>4.0</td>\n",
              "      <td>3.0</td>\n",
              "      <td>5.0</td>\n",
              "      <td>5.0</td>\n",
              "      <td>5.0</td>\n",
              "      <td>3.0</td>\n",
              "      <td>4.0</td>\n",
              "      <td>4.0</td>\n",
              "      <td>4.0</td>\n",
              "      <td>2.0</td>\n",
              "      <td>5.0</td>\n",
              "      <td>2.0</td>\n",
              "      <td>4.0</td>\n",
              "      <td>1.0</td>\n",
              "      <td>3.0</td>\n",
              "      <td>3</td>\n",
              "      <td>4.0</td>\n",
              "      <td>3.0</td>\n",
              "      <td>5.0</td>\n",
              "    </tr>\n",
              "    <tr>\n",
              "      <th>4</th>\n",
              "      <td>2.0</td>\n",
              "      <td>3.0</td>\n",
              "      <td>3.0</td>\n",
              "      <td>4.0</td>\n",
              "      <td>5.0</td>\n",
              "      <td>4.0</td>\n",
              "      <td>4.0</td>\n",
              "      <td>5.0</td>\n",
              "      <td>3.0</td>\n",
              "      <td>2.0</td>\n",
              "      <td>2.0</td>\n",
              "      <td>2.0</td>\n",
              "      <td>5.0</td>\n",
              "      <td>4.0</td>\n",
              "      <td>5.0</td>\n",
              "      <td>2.0</td>\n",
              "      <td>3.0</td>\n",
              "      <td>4.0</td>\n",
              "      <td>4.0</td>\n",
              "      <td>3.0</td>\n",
              "      <td>3.0</td>\n",
              "      <td>3</td>\n",
              "      <td>4.0</td>\n",
              "      <td>3.0</td>\n",
              "      <td>3.0</td>\n",
              "    </tr>\n",
              "  </tbody>\n",
              "</table>\n",
              "</div>"
            ],
            "text/plain": [
              "    A1   A2   A3   A4   A5   C1   C2  ...   N4   N5   O1  O2   O3   O4   O5\n",
              "0  2.0  4.0  3.0  4.0  4.0  2.0  3.0  ...  2.0  3.0  3.0   6  3.0  4.0  3.0\n",
              "1  2.0  4.0  5.0  2.0  5.0  5.0  4.0  ...  5.0  5.0  4.0   2  4.0  3.0  3.0\n",
              "2  5.0  4.0  5.0  4.0  4.0  4.0  5.0  ...  2.0  3.0  4.0   2  5.0  5.0  2.0\n",
              "3  4.0  4.0  6.0  5.0  5.0  4.0  4.0  ...  4.0  1.0  3.0   3  4.0  3.0  5.0\n",
              "4  2.0  3.0  3.0  4.0  5.0  4.0  4.0  ...  4.0  3.0  3.0   3  4.0  3.0  3.0\n",
              "\n",
              "[5 rows x 25 columns]"
            ]
          },
          "metadata": {
            "tags": []
          },
          "execution_count": 10
        }
      ]
    },
    {
      "cell_type": "code",
      "metadata": {
        "colab": {
          "base_uri": "https://localhost:8080/"
        },
        "id": "MB01qf-AzEwy",
        "outputId": "1c436379-d4bf-415b-ab0c-bd204338d13b"
      },
      "source": [
        "df.shape"
      ],
      "execution_count": 11,
      "outputs": [
        {
          "output_type": "execute_result",
          "data": {
            "text/plain": [
              "(2800, 25)"
            ]
          },
          "metadata": {
            "tags": []
          },
          "execution_count": 11
        }
      ]
    },
    {
      "cell_type": "code",
      "metadata": {
        "id": "90NrCtdezHbH"
      },
      "source": [
        "df = df.dropna()"
      ],
      "execution_count": 12,
      "outputs": []
    },
    {
      "cell_type": "code",
      "metadata": {
        "colab": {
          "base_uri": "https://localhost:8080/"
        },
        "id": "OYwURTbHzLOM",
        "outputId": "e777f1db-c94d-472d-dfa1-9e6a458bb6d6"
      },
      "source": [
        "df.shape"
      ],
      "execution_count": 13,
      "outputs": [
        {
          "output_type": "execute_result",
          "data": {
            "text/plain": [
              "(2436, 25)"
            ]
          },
          "metadata": {
            "tags": []
          },
          "execution_count": 13
        }
      ]
    },
    {
      "cell_type": "code",
      "metadata": {
        "colab": {
          "base_uri": "https://localhost:8080/"
        },
        "id": "rHBH9Sl0zMUS",
        "outputId": "49b819e7-82e5-4a9e-f24f-cc265861290a"
      },
      "source": [
        "df.info()"
      ],
      "execution_count": 14,
      "outputs": [
        {
          "output_type": "stream",
          "text": [
            "<class 'pandas.core.frame.DataFrame'>\n",
            "Int64Index: 2436 entries, 0 to 2799\n",
            "Data columns (total 25 columns):\n",
            " #   Column  Non-Null Count  Dtype  \n",
            "---  ------  --------------  -----  \n",
            " 0   A1      2436 non-null   float64\n",
            " 1   A2      2436 non-null   float64\n",
            " 2   A3      2436 non-null   float64\n",
            " 3   A4      2436 non-null   float64\n",
            " 4   A5      2436 non-null   float64\n",
            " 5   C1      2436 non-null   float64\n",
            " 6   C2      2436 non-null   float64\n",
            " 7   C3      2436 non-null   float64\n",
            " 8   C4      2436 non-null   float64\n",
            " 9   C5      2436 non-null   float64\n",
            " 10  E1      2436 non-null   float64\n",
            " 11  E2      2436 non-null   float64\n",
            " 12  E3      2436 non-null   float64\n",
            " 13  E4      2436 non-null   float64\n",
            " 14  E5      2436 non-null   float64\n",
            " 15  N1      2436 non-null   float64\n",
            " 16  N2      2436 non-null   float64\n",
            " 17  N3      2436 non-null   float64\n",
            " 18  N4      2436 non-null   float64\n",
            " 19  N5      2436 non-null   float64\n",
            " 20  O1      2436 non-null   float64\n",
            " 21  O2      2436 non-null   int64  \n",
            " 22  O3      2436 non-null   float64\n",
            " 23  O4      2436 non-null   float64\n",
            " 24  O5      2436 non-null   float64\n",
            "dtypes: float64(24), int64(1)\n",
            "memory usage: 494.8 KB\n"
          ],
          "name": "stdout"
        }
      ]
    },
    {
      "cell_type": "code",
      "metadata": {
        "id": "_k1JUGANzYpk"
      },
      "source": [
        "fa = FactorAnalyzer(n_factors=6, rotation='varimax')"
      ],
      "execution_count": 15,
      "outputs": []
    },
    {
      "cell_type": "code",
      "metadata": {
        "colab": {
          "base_uri": "https://localhost:8080/"
        },
        "id": "Etz3t6WZzr9A",
        "outputId": "9cb224be-33a8-48fa-d8ca-9b191492ead4"
      },
      "source": [
        "fa"
      ],
      "execution_count": 16,
      "outputs": [
        {
          "output_type": "execute_result",
          "data": {
            "text/plain": [
              "FactorAnalyzer(bounds=(0.005, 1), impute='median', is_corr_matrix=False,\n",
              "               method='minres', n_factors=6, rotation='varimax',\n",
              "               rotation_kwargs={}, use_smc=True)"
            ]
          },
          "metadata": {
            "tags": []
          },
          "execution_count": 16
        }
      ]
    },
    {
      "cell_type": "code",
      "metadata": {
        "colab": {
          "base_uri": "https://localhost:8080/"
        },
        "id": "FJ30hsumzswL",
        "outputId": "032c0555-2263-4445-c638-beb635d8a41e"
      },
      "source": [
        "fa.fit(df)"
      ],
      "execution_count": 18,
      "outputs": [
        {
          "output_type": "execute_result",
          "data": {
            "text/plain": [
              "FactorAnalyzer(bounds=(0.005, 1), impute='median', is_corr_matrix=False,\n",
              "               method='minres', n_factors=6, rotation='varimax',\n",
              "               rotation_kwargs={}, use_smc=True)"
            ]
          },
          "metadata": {
            "tags": []
          },
          "execution_count": 18
        }
      ]
    },
    {
      "cell_type": "code",
      "metadata": {
        "colab": {
          "base_uri": "https://localhost:8080/"
        },
        "id": "dHqmIoI0zukr",
        "outputId": "97487450-20d7-4a21-d5b3-4e36f1c591ba"
      },
      "source": [
        "fa.loadings_"
      ],
      "execution_count": 19,
      "outputs": [
        {
          "output_type": "execute_result",
          "data": {
            "text/plain": [
              "array([[ 9.52197426e-02,  4.07831575e-02,  4.87338851e-02,\n",
              "        -5.30987351e-01, -1.13057329e-01,  1.61216352e-01],\n",
              "       [ 3.31312765e-02,  2.35538040e-01,  1.33714395e-01,\n",
              "         6.61140979e-01,  6.37337870e-02, -6.24353645e-03],\n",
              "       [-9.62088444e-03,  3.43008175e-01,  1.21353368e-01,\n",
              "         6.05932691e-01,  3.39902655e-02,  1.60106429e-01],\n",
              "       [-8.15175587e-02,  2.19716721e-01,  2.35139532e-01,\n",
              "         4.04594039e-01, -1.25338020e-01,  8.63557051e-02],\n",
              "       [-1.49615885e-01,  4.14457675e-01,  1.06382165e-01,\n",
              "         4.69698289e-01,  3.09765729e-02,  2.36519344e-01],\n",
              "       [-4.35840205e-03,  7.72477523e-02,  5.54582256e-01,\n",
              "         7.51069506e-03,  1.90123730e-01,  9.50350463e-02],\n",
              "       [ 6.83300837e-02,  3.83703844e-02,  6.74545450e-01,\n",
              "         5.70549868e-02,  8.75925919e-02,  1.52775079e-01],\n",
              "       [-3.99936733e-02,  3.18673007e-02,  5.51164439e-01,\n",
              "         1.01282240e-01, -1.13380871e-02,  8.99628359e-03],\n",
              "       [ 2.16283366e-01, -6.62407735e-02, -6.38475489e-01,\n",
              "        -1.02616940e-01, -1.43846474e-01,  3.18358897e-01],\n",
              "       [ 2.84187245e-01, -1.80811696e-01, -5.44837677e-01,\n",
              "        -5.99548217e-02,  2.58370944e-02,  1.32423444e-01],\n",
              "       [ 2.22797940e-02, -5.90450892e-01,  5.39149065e-02,\n",
              "        -1.30850530e-01, -7.12045795e-02,  1.56582659e-01],\n",
              "       [ 2.33623567e-01, -6.84577632e-01, -8.84970715e-02,\n",
              "        -1.16715664e-01, -4.55610414e-02,  1.15065402e-01],\n",
              "       [-8.95006200e-04,  5.56774181e-01,  1.03390347e-01,\n",
              "         1.79396478e-01,  2.41179905e-01,  2.67291316e-01],\n",
              "       [-1.36788076e-01,  6.58394907e-01,  1.13798005e-01,\n",
              "         2.41142959e-01, -1.07808203e-01,  1.58512851e-01],\n",
              "       [ 3.44895884e-02,  5.07535082e-01,  3.09812528e-01,\n",
              "         7.88042857e-02,  2.00821351e-01,  8.74730089e-03],\n",
              "       [ 8.05805939e-01,  6.80113023e-02, -5.12637875e-02,\n",
              "        -1.74849358e-01, -7.49771190e-02, -9.62661721e-02],\n",
              "       [ 7.89831687e-01,  2.29582935e-02, -3.74768698e-02,\n",
              "        -1.41134481e-01,  6.72646117e-03, -1.39822615e-01],\n",
              "       [ 7.25081217e-01, -6.56869336e-02, -5.90394378e-02,\n",
              "        -1.91838177e-02, -1.06635547e-02,  6.24953370e-02],\n",
              "       [ 5.78318850e-01, -3.45072324e-01, -1.62173862e-01,\n",
              "         4.03125191e-04,  6.29164835e-02,  1.47551244e-01],\n",
              "       [ 5.23097072e-01, -1.61675117e-01, -2.53049779e-02,\n",
              "         9.01247904e-02, -1.61891978e-01,  1.20049478e-01],\n",
              "       [-2.00040178e-02,  2.25338562e-01,  1.33200799e-01,\n",
              "         5.17793746e-03,  4.79477216e-01,  2.18689832e-01],\n",
              "       [ 1.56230108e-01, -1.98151933e-03, -8.60468497e-02,\n",
              "         4.39891061e-02, -4.96639673e-01,  1.34692973e-01],\n",
              "       [ 1.18510151e-02,  3.25954483e-01,  9.38796106e-02,\n",
              "         7.66416455e-02,  5.66128048e-01,  2.10777219e-01],\n",
              "       [ 2.07280572e-01, -1.77745714e-01, -5.67146648e-03,\n",
              "         1.33655573e-01,  3.49227138e-01,  1.78068368e-01],\n",
              "       [ 6.32343667e-02, -1.42210623e-02, -4.70592290e-02,\n",
              "        -5.75607780e-02, -5.76742634e-01,  1.35935873e-01]])"
            ]
          },
          "metadata": {
            "tags": []
          },
          "execution_count": 19
        }
      ]
    },
    {
      "cell_type": "code",
      "metadata": {
        "id": "o1fMEBoOzz9S"
      },
      "source": [
        "loadings=  fa.loadings_ "
      ],
      "execution_count": 20,
      "outputs": []
    },
    {
      "cell_type": "code",
      "metadata": {
        "colab": {
          "base_uri": "https://localhost:8080/"
        },
        "id": "D5TWvkPaz4hb",
        "outputId": "e1afc517-425d-4c2f-fb19-148c0a5ece34"
      },
      "source": [
        "loadings\n"
      ],
      "execution_count": 21,
      "outputs": [
        {
          "output_type": "execute_result",
          "data": {
            "text/plain": [
              "array([[ 9.52197426e-02,  4.07831575e-02,  4.87338851e-02,\n",
              "        -5.30987351e-01, -1.13057329e-01,  1.61216352e-01],\n",
              "       [ 3.31312765e-02,  2.35538040e-01,  1.33714395e-01,\n",
              "         6.61140979e-01,  6.37337870e-02, -6.24353645e-03],\n",
              "       [-9.62088444e-03,  3.43008175e-01,  1.21353368e-01,\n",
              "         6.05932691e-01,  3.39902655e-02,  1.60106429e-01],\n",
              "       [-8.15175587e-02,  2.19716721e-01,  2.35139532e-01,\n",
              "         4.04594039e-01, -1.25338020e-01,  8.63557051e-02],\n",
              "       [-1.49615885e-01,  4.14457675e-01,  1.06382165e-01,\n",
              "         4.69698289e-01,  3.09765729e-02,  2.36519344e-01],\n",
              "       [-4.35840205e-03,  7.72477523e-02,  5.54582256e-01,\n",
              "         7.51069506e-03,  1.90123730e-01,  9.50350463e-02],\n",
              "       [ 6.83300837e-02,  3.83703844e-02,  6.74545450e-01,\n",
              "         5.70549868e-02,  8.75925919e-02,  1.52775079e-01],\n",
              "       [-3.99936733e-02,  3.18673007e-02,  5.51164439e-01,\n",
              "         1.01282240e-01, -1.13380871e-02,  8.99628359e-03],\n",
              "       [ 2.16283366e-01, -6.62407735e-02, -6.38475489e-01,\n",
              "        -1.02616940e-01, -1.43846474e-01,  3.18358897e-01],\n",
              "       [ 2.84187245e-01, -1.80811696e-01, -5.44837677e-01,\n",
              "        -5.99548217e-02,  2.58370944e-02,  1.32423444e-01],\n",
              "       [ 2.22797940e-02, -5.90450892e-01,  5.39149065e-02,\n",
              "        -1.30850530e-01, -7.12045795e-02,  1.56582659e-01],\n",
              "       [ 2.33623567e-01, -6.84577632e-01, -8.84970715e-02,\n",
              "        -1.16715664e-01, -4.55610414e-02,  1.15065402e-01],\n",
              "       [-8.95006200e-04,  5.56774181e-01,  1.03390347e-01,\n",
              "         1.79396478e-01,  2.41179905e-01,  2.67291316e-01],\n",
              "       [-1.36788076e-01,  6.58394907e-01,  1.13798005e-01,\n",
              "         2.41142959e-01, -1.07808203e-01,  1.58512851e-01],\n",
              "       [ 3.44895884e-02,  5.07535082e-01,  3.09812528e-01,\n",
              "         7.88042857e-02,  2.00821351e-01,  8.74730089e-03],\n",
              "       [ 8.05805939e-01,  6.80113023e-02, -5.12637875e-02,\n",
              "        -1.74849358e-01, -7.49771190e-02, -9.62661721e-02],\n",
              "       [ 7.89831687e-01,  2.29582935e-02, -3.74768698e-02,\n",
              "        -1.41134481e-01,  6.72646117e-03, -1.39822615e-01],\n",
              "       [ 7.25081217e-01, -6.56869336e-02, -5.90394378e-02,\n",
              "        -1.91838177e-02, -1.06635547e-02,  6.24953370e-02],\n",
              "       [ 5.78318850e-01, -3.45072324e-01, -1.62173862e-01,\n",
              "         4.03125191e-04,  6.29164835e-02,  1.47551244e-01],\n",
              "       [ 5.23097072e-01, -1.61675117e-01, -2.53049779e-02,\n",
              "         9.01247904e-02, -1.61891978e-01,  1.20049478e-01],\n",
              "       [-2.00040178e-02,  2.25338562e-01,  1.33200799e-01,\n",
              "         5.17793746e-03,  4.79477216e-01,  2.18689832e-01],\n",
              "       [ 1.56230108e-01, -1.98151933e-03, -8.60468497e-02,\n",
              "         4.39891061e-02, -4.96639673e-01,  1.34692973e-01],\n",
              "       [ 1.18510151e-02,  3.25954483e-01,  9.38796106e-02,\n",
              "         7.66416455e-02,  5.66128048e-01,  2.10777219e-01],\n",
              "       [ 2.07280572e-01, -1.77745714e-01, -5.67146648e-03,\n",
              "         1.33655573e-01,  3.49227138e-01,  1.78068368e-01],\n",
              "       [ 6.32343667e-02, -1.42210623e-02, -4.70592290e-02,\n",
              "        -5.75607780e-02, -5.76742634e-01,  1.35935873e-01]])"
            ]
          },
          "metadata": {
            "tags": []
          },
          "execution_count": 21
        }
      ]
    },
    {
      "cell_type": "code",
      "metadata": {
        "id": "Kt5RCzNWz6wk"
      },
      "source": [
        "ev, v = fa.get_eigenvalues()"
      ],
      "execution_count": 23,
      "outputs": []
    },
    {
      "cell_type": "code",
      "metadata": {
        "colab": {
          "base_uri": "https://localhost:8080/"
        },
        "id": "05XEsih80H89",
        "outputId": "e94be87d-5d11-4bf3-b758-e9258a540836"
      },
      "source": [
        "ev"
      ],
      "execution_count": 24,
      "outputs": [
        {
          "output_type": "execute_result",
          "data": {
            "text/plain": [
              "array([5.13431118, 2.75188667, 2.14270195, 1.85232761, 1.54816285,\n",
              "       1.07358247, 0.83953893, 0.79920618, 0.71898919, 0.68808879,\n",
              "       0.67637336, 0.65179984, 0.62325295, 0.59656284, 0.56309083,\n",
              "       0.54330533, 0.51451752, 0.49450315, 0.48263952, 0.448921  ,\n",
              "       0.42336611, 0.40067145, 0.38780448, 0.38185679, 0.26253902])"
            ]
          },
          "metadata": {
            "tags": []
          },
          "execution_count": 24
        }
      ]
    },
    {
      "cell_type": "code",
      "metadata": {
        "colab": {
          "base_uri": "https://localhost:8080/"
        },
        "id": "esyIRtCk0Kiz",
        "outputId": "abac6f0a-a03b-4d9a-9561-3c9aa6b99d96"
      },
      "source": [
        "v "
      ],
      "execution_count": 25,
      "outputs": [
        {
          "output_type": "execute_result",
          "data": {
            "text/plain": [
              "array([ 4.62151801,  2.28722512,  1.58418949,  1.24487285,  0.99295601,\n",
              "        0.52056474,  0.25772607,  0.20470979,  0.12171439,  0.10335508,\n",
              "        0.07351889,  0.04212905,  0.03273147,  0.0170855 , -0.00983342,\n",
              "       -0.03318659, -0.04583048, -0.04895868, -0.06093545, -0.07926602,\n",
              "       -0.0859421 , -0.09982342, -0.11016681, -0.12563658, -0.15339095])"
            ]
          },
          "metadata": {
            "tags": []
          },
          "execution_count": 25
        }
      ]
    },
    {
      "cell_type": "code",
      "metadata": {
        "id": "iAi7Rp070LSh"
      },
      "source": [
        "xvals = range(1, df.shape[1] + 1)\n"
      ],
      "execution_count": 28,
      "outputs": []
    },
    {
      "cell_type": "code",
      "metadata": {
        "colab": {
          "base_uri": "https://localhost:8080/"
        },
        "id": "tacymodd0XQQ",
        "outputId": "6fb30055-edfd-47de-9f59-83adb54586c7"
      },
      "source": [
        "xvals"
      ],
      "execution_count": 29,
      "outputs": [
        {
          "output_type": "execute_result",
          "data": {
            "text/plain": [
              "range(1, 26)"
            ]
          },
          "metadata": {
            "tags": []
          },
          "execution_count": 29
        }
      ]
    },
    {
      "cell_type": "code",
      "metadata": {
        "colab": {
          "base_uri": "https://localhost:8080/",
          "height": 279
        },
        "id": "z9hlmABp0X6a",
        "outputId": "9014afdd-85a6-477d-c260-1d5cd21aeffd"
      },
      "source": [
        "plt.scatter(xvals, ev)\n",
        "plt.plot(xvals, ev)\n",
        "plt.xlabel('Factors')\n",
        "plt.ylabel('Eigen values')\n",
        "plt.grid()\n",
        "plt.show()"
      ],
      "execution_count": 31,
      "outputs": [
        {
          "output_type": "display_data",
          "data": {
            "image/png": "[encoded data removed]",
            "text/plain": [
              "<Figure size 432x288 with 1 Axes>"
            ]
          },
          "metadata": {
            "tags": [],
            "needs_background": "light"
          }
        }
      ]
    },
    {
      "cell_type": "code",
      "metadata": {
        "colab": {
          "base_uri": "https://localhost:8080/"
        },
        "id": "XNN17D-R1BAg",
        "outputId": "b63e1df9-6bba-4de5-aa29-59a9995febb9"
      },
      "source": [
        "loadings[:5]"
      ],
      "execution_count": 33,
      "outputs": [
        {
          "output_type": "execute_result",
          "data": {
            "text/plain": [
              "array([[ 0.09521974,  0.04078316,  0.04873389, -0.53098735, -0.11305733,\n",
              "         0.16121635],\n",
              "       [ 0.03313128,  0.23553804,  0.13371439,  0.66114098,  0.06373379,\n",
              "        -0.00624354],\n",
              "       [-0.00962088,  0.34300817,  0.12135337,  0.60593269,  0.03399027,\n",
              "         0.16010643],\n",
              "       [-0.08151756,  0.21971672,  0.23513953,  0.40459404, -0.12533802,\n",
              "         0.08635571],\n",
              "       [-0.14961589,  0.41445768,  0.10638217,  0.46969829,  0.03097657,\n",
              "         0.23651934]])"
            ]
          },
          "metadata": {
            "tags": []
          },
          "execution_count": 33
        }
      ]
    },
    {
      "cell_type": "code",
      "metadata": {
        "colab": {
          "base_uri": "https://localhost:8080/",
          "height": 834
        },
        "id": "CGyS3DJC1Ikx",
        "outputId": "e630272e-7871-488c-fc07-2794ba3eaef5"
      },
      "source": [
        "pd.DataFrame.from_records(loadings)"
      ],
      "execution_count": 34,
      "outputs": [
        {
          "output_type": "execute_result",
          "data": {
            "text/html": [
              "<div>\n",
              "<style scoped>\n",
              "    .dataframe tbody tr th:only-of-type {\n",
              "        vertical-align: middle;\n",
              "    }\n",
              "\n",
              "    .dataframe tbody tr th {\n",
              "        vertical-align: top;\n",
              "    }\n",
              "\n",
              "    .dataframe thead th {\n",
              "        text-align: right;\n",
              "    }\n",
              "</style>\n",
              "<table border=\"1\" class=\"dataframe\">\n",
              "  <thead>\n",
              "    <tr style=\"text-align: right;\">\n",
              "      <th></th>\n",
              "      <th>0</th>\n",
              "      <th>1</th>\n",
              "      <th>2</th>\n",
              "      <th>3</th>\n",
              "      <th>4</th>\n",
              "      <th>5</th>\n",
              "    </tr>\n",
              "  </thead>\n",
              "  <tbody>\n",
              "    <tr>\n",
              "      <th>0</th>\n",
              "      <td>0.095220</td>\n",
              "      <td>0.040783</td>\n",
              "      <td>0.048734</td>\n",
              "      <td>-0.530987</td>\n",
              "      <td>-0.113057</td>\n",
              "      <td>0.161216</td>\n",
              "    </tr>\n",
              "    <tr>\n",
              "      <th>1</th>\n",
              "      <td>0.033131</td>\n",
              "      <td>0.235538</td>\n",
              "      <td>0.133714</td>\n",
              "      <td>0.661141</td>\n",
              "      <td>0.063734</td>\n",
              "      <td>-0.006244</td>\n",
              "    </tr>\n",
              "    <tr>\n",
              "      <th>2</th>\n",
              "      <td>-0.009621</td>\n",
              "      <td>0.343008</td>\n",
              "      <td>0.121353</td>\n",
              "      <td>0.605933</td>\n",
              "      <td>0.033990</td>\n",
              "      <td>0.160106</td>\n",
              "    </tr>\n",
              "    <tr>\n",
              "      <th>3</th>\n",
              "      <td>-0.081518</td>\n",
              "      <td>0.219717</td>\n",
              "      <td>0.235140</td>\n",
              "      <td>0.404594</td>\n",
              "      <td>-0.125338</td>\n",
              "      <td>0.086356</td>\n",
              "    </tr>\n",
              "    <tr>\n",
              "      <th>4</th>\n",
              "      <td>-0.149616</td>\n",
              "      <td>0.414458</td>\n",
              "      <td>0.106382</td>\n",
              "      <td>0.469698</td>\n",
              "      <td>0.030977</td>\n",
              "      <td>0.236519</td>\n",
              "    </tr>\n",
              "    <tr>\n",
              "      <th>5</th>\n",
              "      <td>-0.004358</td>\n",
              "      <td>0.077248</td>\n",
              "      <td>0.554582</td>\n",
              "      <td>0.007511</td>\n",
              "      <td>0.190124</td>\n",
              "      <td>0.095035</td>\n",
              "    </tr>\n",
              "    <tr>\n",
              "      <th>6</th>\n",
              "      <td>0.068330</td>\n",
              "      <td>0.038370</td>\n",
              "      <td>0.674545</td>\n",
              "      <td>0.057055</td>\n",
              "      <td>0.087593</td>\n",
              "      <td>0.152775</td>\n",
              "    </tr>\n",
              "    <tr>\n",
              "      <th>7</th>\n",
              "      <td>-0.039994</td>\n",
              "      <td>0.031867</td>\n",
              "      <td>0.551164</td>\n",
              "      <td>0.101282</td>\n",
              "      <td>-0.011338</td>\n",
              "      <td>0.008996</td>\n",
              "    </tr>\n",
              "    <tr>\n",
              "      <th>8</th>\n",
              "      <td>0.216283</td>\n",
              "      <td>-0.066241</td>\n",
              "      <td>-0.638475</td>\n",
              "      <td>-0.102617</td>\n",
              "      <td>-0.143846</td>\n",
              "      <td>0.318359</td>\n",
              "    </tr>\n",
              "    <tr>\n",
              "      <th>9</th>\n",
              "      <td>0.284187</td>\n",
              "      <td>-0.180812</td>\n",
              "      <td>-0.544838</td>\n",
              "      <td>-0.059955</td>\n",
              "      <td>0.025837</td>\n",
              "      <td>0.132423</td>\n",
              "    </tr>\n",
              "    <tr>\n",
              "      <th>10</th>\n",
              "      <td>0.022280</td>\n",
              "      <td>-0.590451</td>\n",
              "      <td>0.053915</td>\n",
              "      <td>-0.130851</td>\n",
              "      <td>-0.071205</td>\n",
              "      <td>0.156583</td>\n",
              "    </tr>\n",
              "    <tr>\n",
              "      <th>11</th>\n",
              "      <td>0.233624</td>\n",
              "      <td>-0.684578</td>\n",
              "      <td>-0.088497</td>\n",
              "      <td>-0.116716</td>\n",
              "      <td>-0.045561</td>\n",
              "      <td>0.115065</td>\n",
              "    </tr>\n",
              "    <tr>\n",
              "      <th>12</th>\n",
              "      <td>-0.000895</td>\n",
              "      <td>0.556774</td>\n",
              "      <td>0.103390</td>\n",
              "      <td>0.179396</td>\n",
              "      <td>0.241180</td>\n",
              "      <td>0.267291</td>\n",
              "    </tr>\n",
              "    <tr>\n",
              "      <th>13</th>\n",
              "      <td>-0.136788</td>\n",
              "      <td>0.658395</td>\n",
              "      <td>0.113798</td>\n",
              "      <td>0.241143</td>\n",
              "      <td>-0.107808</td>\n",
              "      <td>0.158513</td>\n",
              "    </tr>\n",
              "    <tr>\n",
              "      <th>14</th>\n",
              "      <td>0.034490</td>\n",
              "      <td>0.507535</td>\n",
              "      <td>0.309813</td>\n",
              "      <td>0.078804</td>\n",
              "      <td>0.200821</td>\n",
              "      <td>0.008747</td>\n",
              "    </tr>\n",
              "    <tr>\n",
              "      <th>15</th>\n",
              "      <td>0.805806</td>\n",
              "      <td>0.068011</td>\n",
              "      <td>-0.051264</td>\n",
              "      <td>-0.174849</td>\n",
              "      <td>-0.074977</td>\n",
              "      <td>-0.096266</td>\n",
              "    </tr>\n",
              "    <tr>\n",
              "      <th>16</th>\n",
              "      <td>0.789832</td>\n",
              "      <td>0.022958</td>\n",
              "      <td>-0.037477</td>\n",
              "      <td>-0.141134</td>\n",
              "      <td>0.006726</td>\n",
              "      <td>-0.139823</td>\n",
              "    </tr>\n",
              "    <tr>\n",
              "      <th>17</th>\n",
              "      <td>0.725081</td>\n",
              "      <td>-0.065687</td>\n",
              "      <td>-0.059039</td>\n",
              "      <td>-0.019184</td>\n",
              "      <td>-0.010664</td>\n",
              "      <td>0.062495</td>\n",
              "    </tr>\n",
              "    <tr>\n",
              "      <th>18</th>\n",
              "      <td>0.578319</td>\n",
              "      <td>-0.345072</td>\n",
              "      <td>-0.162174</td>\n",
              "      <td>0.000403</td>\n",
              "      <td>0.062916</td>\n",
              "      <td>0.147551</td>\n",
              "    </tr>\n",
              "    <tr>\n",
              "      <th>19</th>\n",
              "      <td>0.523097</td>\n",
              "      <td>-0.161675</td>\n",
              "      <td>-0.025305</td>\n",
              "      <td>0.090125</td>\n",
              "      <td>-0.161892</td>\n",
              "      <td>0.120049</td>\n",
              "    </tr>\n",
              "    <tr>\n",
              "      <th>20</th>\n",
              "      <td>-0.020004</td>\n",
              "      <td>0.225339</td>\n",
              "      <td>0.133201</td>\n",
              "      <td>0.005178</td>\n",
              "      <td>0.479477</td>\n",
              "      <td>0.218690</td>\n",
              "    </tr>\n",
              "    <tr>\n",
              "      <th>21</th>\n",
              "      <td>0.156230</td>\n",
              "      <td>-0.001982</td>\n",
              "      <td>-0.086047</td>\n",
              "      <td>0.043989</td>\n",
              "      <td>-0.496640</td>\n",
              "      <td>0.134693</td>\n",
              "    </tr>\n",
              "    <tr>\n",
              "      <th>22</th>\n",
              "      <td>0.011851</td>\n",
              "      <td>0.325954</td>\n",
              "      <td>0.093880</td>\n",
              "      <td>0.076642</td>\n",
              "      <td>0.566128</td>\n",
              "      <td>0.210777</td>\n",
              "    </tr>\n",
              "    <tr>\n",
              "      <th>23</th>\n",
              "      <td>0.207281</td>\n",
              "      <td>-0.177746</td>\n",
              "      <td>-0.005671</td>\n",
              "      <td>0.133656</td>\n",
              "      <td>0.349227</td>\n",
              "      <td>0.178068</td>\n",
              "    </tr>\n",
              "    <tr>\n",
              "      <th>24</th>\n",
              "      <td>0.063234</td>\n",
              "      <td>-0.014221</td>\n",
              "      <td>-0.047059</td>\n",
              "      <td>-0.057561</td>\n",
              "      <td>-0.576743</td>\n",
              "      <td>0.135936</td>\n",
              "    </tr>\n",
              "  </tbody>\n",
              "</table>\n",
              "</div>"
            ],
            "text/plain": [
              "           0         1         2         3         4         5\n",
              "0   0.095220  0.040783  0.048734 -0.530987 -0.113057  0.161216\n",
              "1   0.033131  0.235538  0.133714  0.661141  0.063734 -0.006244\n",
              "2  -0.009621  0.343008  0.121353  0.605933  0.033990  0.160106\n",
              "3  -0.081518  0.219717  0.235140  0.404594 -0.125338  0.086356\n",
              "4  -0.149616  0.414458  0.106382  0.469698  0.030977  0.236519\n",
              "5  -0.004358  0.077248  0.554582  0.007511  0.190124  0.095035\n",
              "6   0.068330  0.038370  0.674545  0.057055  0.087593  0.152775\n",
              "7  -0.039994  0.031867  0.551164  0.101282 -0.011338  0.008996\n",
              "8   0.216283 -0.066241 -0.638475 -0.102617 -0.143846  0.318359\n",
              "9   0.284187 -0.180812 -0.544838 -0.059955  0.025837  0.132423\n",
              "10  0.022280 -0.590451  0.053915 -0.130851 -0.071205  0.156583\n",
              "11  0.233624 -0.684578 -0.088497 -0.116716 -0.045561  0.115065\n",
              "12 -0.000895  0.556774  0.103390  0.179396  0.241180  0.267291\n",
              "13 -0.136788  0.658395  0.113798  0.241143 -0.107808  0.158513\n",
              "14  0.034490  0.507535  0.309813  0.078804  0.200821  0.008747\n",
              "15  0.805806  0.068011 -0.051264 -0.174849 -0.074977 -0.096266\n",
              "16  0.789832  0.022958 -0.037477 -0.141134  0.006726 -0.139823\n",
              "17  0.725081 -0.065687 -0.059039 -0.019184 -0.010664  0.062495\n",
              "18  0.578319 -0.345072 -0.162174  0.000403  0.062916  0.147551\n",
              "19  0.523097 -0.161675 -0.025305  0.090125 -0.161892  0.120049\n",
              "20 -0.020004  0.225339  0.133201  0.005178  0.479477  0.218690\n",
              "21  0.156230 -0.001982 -0.086047  0.043989 -0.496640  0.134693\n",
              "22  0.011851  0.325954  0.093880  0.076642  0.566128  0.210777\n",
              "23  0.207281 -0.177746 -0.005671  0.133656  0.349227  0.178068\n",
              "24  0.063234 -0.014221 -0.047059 -0.057561 -0.576743  0.135936"
            ]
          },
          "metadata": {
            "tags": []
          },
          "execution_count": 34
        }
      ]
    },
    {
      "cell_type": "code",
      "metadata": {
        "id": "zirw6Xbb1QrO"
      },
      "source": [
        ""
      ],
      "execution_count": null,
      "outputs": []
    }
  ]
}